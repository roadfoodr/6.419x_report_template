{
 "cells": [
  {
   "cell_type": "markdown",
   "id": "9a570bc0",
   "metadata": {},
   "source": [
    "**MITx 6.419x  Data Analysis: Statistical Modeling and Computation in Applications**  \n",
    "Written report -- Homework 4  \n",
    "Student Name (s_name)  \n",
    "5/14/21  \n",
    "---"
   ]
  },
  {
   "cell_type": "markdown",
   "id": "95a96487",
   "metadata": {
    "tags": []
   },
   "source": [
    "## Module 4: Time Series"
   ]
  },
  {
   "cell_type": "markdown",
   "id": "d7d30dd7",
   "metadata": {
    "tags": []
   },
   "source": [
    "### Problem 2: The Mauna Loa CO<sub>2</sub> Concentration\n",
    "### The final model"
   ]
  },
  {
   "cell_type": "markdown",
   "id": "3d349cdd",
   "metadata": {
    "tags": [
     "question:2.1",
     "points:3"
    ]
   },
   "source": [
    "**1.** (3 points) Plot the periodic signal $P_i$. (Your plot should have 1 data point for each month, so 12 in total.) Clearly state the definition the $P_i$, and make sure your plot is clearly labeled.\n",
    ">Python tip: For interpolation, you may use interp1d from Scikit-learn. See Documentation on interp1d."
   ]
  },
  {
   "cell_type": "markdown",
   "id": "1fc8f203",
   "metadata": {},
   "source": [
    " "
   ]
  },
  {
   "cell_type": "markdown",
   "id": "a77f2c98",
   "metadata": {
    "tags": [
     "question:2.2",
     "points:2"
    ]
   },
   "source": [
    "**2.** (2 points) Plot the final fit $F_n(t_i)+P_i$. Your plot should clearly show the final model on top of the entire time series, while indicating the split between the training and testing data."
   ]
  },
  {
   "cell_type": "markdown",
   "id": "f6f0ae36",
   "metadata": {},
   "source": [
    " "
   ]
  },
  {
   "cell_type": "markdown",
   "id": "5841c9dd",
   "metadata": {
    "tags": [
     "question:2.3",
     "points:4"
    ]
   },
   "source": [
    "**3.** (4 points) Report the root mean squared prediction error RMSE and the mean absolute percentage error MAPE with respect to the test set for this final model. Is this an improvement over the previous model $F_n(t_i)$ without the periodic signal? (Maximum 200 words.)"
   ]
  },
  {
   "cell_type": "markdown",
   "id": "a71a3e05",
   "metadata": {
    "tags": [
     "word-limit:200"
    ]
   },
   "source": [
    " "
   ]
  },
  {
   "cell_type": "markdown",
   "id": "bb42b2ab",
   "metadata": {
    "tags": [
     "question:2.4",
     "points:3"
    ]
   },
   "source": [
    "**4.** (3 points) What is the ratio of the range of values of $F$ to the amplitude of $P_i$ and the ratio of the amplitude of $P$ to the range of the residual $R_i$ (from removing both the trend and the periodic signal)? Is this decomposition of the variation of the CO2 concentration meaningful? (Maximum 200 words.)"
   ]
  },
  {
   "cell_type": "markdown",
   "id": "6790a0e8",
   "metadata": {
    "tags": [
     "word-limit:200"
    ]
   },
   "source": [
    " "
   ]
  },
  {
   "cell_type": "markdown",
   "id": "e349e4d3",
   "metadata": {
    "tags": []
   },
   "source": [
    "### Problem 3: Autocovariance Functions"
   ]
  },
  {
   "cell_type": "markdown",
   "id": "4045597a",
   "metadata": {
    "tags": [
     "question:3.1",
     "points:4"
    ]
   },
   "source": [
    "**1.** (4 points) Consider the MA(1) model,\n",
    "\n",
    "$$X_t = W_t + \\theta W_{t-1},$$\n",
    "\n",
    "where $W_t\\sim W\\sim\\mathcal{N}(0,\\sigma^2)$. Find the autocovariance function of $X_t$.\n",
    "Include all important steps of your computations in your report."
   ]
  },
  {
   "cell_type": "markdown",
   "id": "1d2911ee",
   "metadata": {},
   "source": [
    " "
   ]
  },
  {
   "cell_type": "markdown",
   "id": "797b561b",
   "metadata": {
    "tags": [
     "question:3.2",
     "points:4"
    ]
   },
   "source": [
    "**2.** (4 points) Consider the AR(1) model,\n",
    "\n",
    "$$X_t=\\phi X_{t-1}+W_t,$$\n",
    "\n",
    "where $W\\sim W_t\\sim\\mathcal{N}(0,\\sigma^2)$. Suppose $|\\phi|<1$. Find the autocovariance function of ${X_t}$. (You may use, without proving, the fact that ${X_t}$ is stationary if $|\\phi|<1$.)  \n",
    "Include all important steps of your computations in your report."
   ]
  },
  {
   "cell_type": "markdown",
   "id": "e72af075",
   "metadata": {},
   "source": [
    " "
   ]
  },
  {
   "cell_type": "markdown",
   "id": "c0d10cb2",
   "metadata": {
    "tags": []
   },
   "source": [
    "### Problem 5: Converting to Inflation Rates\n",
    "### Inflation Rate from CPI"
   ]
  },
  {
   "cell_type": "markdown",
   "id": "fc72d3fa",
   "metadata": {
    "tags": [
     "question:5.1",
     "points:9"
    ]
   },
   "source": [
    "**1.** Repeat the model fitting and evaluation procedure from the previous page for the monthly inflation rate computed from CPI.  Your response should include:\n",
    "\n",
    "- (1 point) Description of how you compute the monthly inflation rate from CPI and a plot of the monthly inflation rate.  \n",
    "- (2 points) Description of how the data has been detrended and a plot of the detrended data. (You may choose to work with log of the CPI for later convenience.)  \n",
    "- (3 points) Statement of and justification for the chosen AR($p$) model. Include plots and reasoning.  \n",
    "- (3 points) Description of the final model; computation and plots of the 1 month-ahead forecasts for the validation data. In your plot, overlay predictions on top of the data."
   ]
  },
  {
   "cell_type": "markdown",
   "id": "f2dff91a",
   "metadata": {},
   "source": [
    " "
   ]
  },
  {
   "cell_type": "markdown",
   "id": "649fc081",
   "metadata": {
    "tags": [
     "question:5.2",
     "points:3"
    ]
   },
   "source": [
    "**2.** (3 points) Which AR($p$) model gives the best predictions? Include a plot of the RSME against different lags $p$ for the model."
   ]
  },
  {
   "cell_type": "markdown",
   "id": "51fc391e",
   "metadata": {},
   "source": [
    " "
   ]
  },
  {
   "cell_type": "markdown",
   "id": "37d0a546",
   "metadata": {
    "tags": [
     "question:5.3",
     "points:3"
    ]
   },
   "source": [
    "**3.** (3 points) Overlay your estimates of monthly inflation rates and plot them on the same graph to compare. (There should be 4 lines, one for each dataset, plus the predictions) over time (months from September 2013 onward)."
   ]
  },
  {
   "cell_type": "markdown",
   "id": "d4ad2482",
   "metadata": {},
   "source": [
    " "
   ]
  },
  {
   "cell_type": "markdown",
   "id": "3f9023f3",
   "metadata": {
    "tags": []
   },
   "source": [
    "### Problem 6: External Regressors and Model Improvements\n",
    "### External Regressors"
   ]
  },
  {
   "cell_type": "markdown",
   "id": "cf150d43",
   "metadata": {
    "tags": [
     "question:6.1",
     "points:4"
    ]
   },
   "source": [
    "**1.** (4 points) Include as external regressors monthly average PriceStats inflation rate data and monthly BER data. Use cross-correlation plots to find the lag between the following:\n",
    "- CPI inflation rate and PriceStats inflation rate\n",
    "- CPI and BER inflation rate."
   ]
  },
  {
   "cell_type": "markdown",
   "id": "28c67b23",
   "metadata": {},
   "source": [
    " "
   ]
  },
  {
   "cell_type": "markdown",
   "id": "e5a733c3",
   "metadata": {
    "tags": [
     "question:6.2",
     "points:3"
    ]
   },
   "source": [
    "**2.** (3 points) Fit a new AR model to the CPI inflation rate with these external regressors and the most appropriate lag. Report the coefficients.\n",
    "> Python Tip: You may use use sm.tsa.statespace.SARIMAX."
   ]
  },
  {
   "cell_type": "markdown",
   "id": "e59613c5",
   "metadata": {},
   "source": [
    " "
   ]
  },
  {
   "cell_type": "markdown",
   "id": "838a5663",
   "metadata": {
    "tags": [
     "question:6.3",
     "points:3"
    ]
   },
   "source": [
    "**3.** (3 points) Report the mean squared prediction error for 1 month ahead forecasts."
   ]
  },
  {
   "cell_type": "markdown",
   "id": "6431115d",
   "metadata": {},
   "source": [
    " "
   ]
  },
  {
   "cell_type": "markdown",
   "id": "6c14556e",
   "metadata": {
    "tags": []
   },
   "source": [
    "### Improving your model"
   ]
  },
  {
   "cell_type": "markdown",
   "id": "e9a9cca7",
   "metadata": {
    "tags": [
     "points:5"
    ]
   },
   "source": [
    "(5 points) What other steps can you take to improve your model from part III? What is the smallest prediction error you can obtain? Describe the model that performs best. You might consider including MA terms, adding a seasonal AR term, or adding multiple daily values (or values from different months) of PriceStats and BER data as external regressors.\n"
   ]
  }
 ],
 "metadata": {},
 "nbformat": 4,
 "nbformat_minor": 5
}
