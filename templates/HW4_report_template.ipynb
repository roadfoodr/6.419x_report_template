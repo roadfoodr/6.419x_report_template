{
 "cells": [
  {
   "cell_type": "markdown",
   "id": "29da070d",
   "metadata": {},
   "source": [
    "**MITx 6.419x  Data Analysis: Statistical Modeling and Computation in Applications**  \n",
    "Written report -- Homework 4  \n",
    "Student Name (s_name)  \n",
    "5/14/21  \n",
    "---"
   ]
  },
  {
   "cell_type": "markdown",
   "id": "c24089b9",
   "metadata": {},
   "source": [
    "## Module 4: Time Series"
   ]
  },
  {
   "cell_type": "markdown",
   "id": "d45f9a8f",
   "metadata": {},
   "source": [
    " "
   ]
  },
  {
   "cell_type": "markdown",
   "id": "86c4b843",
   "metadata": {},
   "source": [
    "\n",
    "### Problem 2: The Mauna Loa CO<sub>2</sub> Concentration\n",
    "### The final model  \n",
    "**1.** Plot the periodic signal $P_i$. (Your plot should have 1 data point for each month, so 12 in total.) Clearly state the definition the $P_i$, and make sure your plot is clearly labeled.\n",
    ">Python tip: For interpolation, you may use interp1d from Scikit-learn. See Documentation on interp1d."
   ]
  },
  {
   "cell_type": "markdown",
   "id": "d24b0e24",
   "metadata": {},
   "source": [
    " "
   ]
  },
  {
   "cell_type": "markdown",
   "id": "97baf474",
   "metadata": {},
   "source": [
    "\n",
    "**2.** Plot the final fit $F_n(t_i)+P_i$. Your plot should clearly show the final model on top of the entire time series, while indicating the split between the training and testing data."
   ]
  },
  {
   "cell_type": "markdown",
   "id": "f46f01c0",
   "metadata": {},
   "source": [
    " "
   ]
  },
  {
   "cell_type": "markdown",
   "id": "ad39dff6",
   "metadata": {},
   "source": [
    "\n",
    "**3.** Report the root mean squared prediction error RMSE and the mean absolute percentage error MAPE with respect to the test set for this final model. Is this an improvement over the previous model $F_n(t_i)$ without the periodic signal? (Maximum 200 words.)"
   ]
  },
  {
   "cell_type": "markdown",
   "id": "44cbf63e",
   "metadata": {},
   "source": [
    " "
   ]
  },
  {
   "cell_type": "markdown",
   "id": "cc14011c",
   "metadata": {},
   "source": [
    "\n",
    "**4.** What is the ratio of the range of values of $F$ to the amplitude of $P_i$ and the ratio of the amplitude of $P$ to the range of the residual $R_i$ (from removing both the trend and the periodic signal)? Is this decomposition of the variation of the CO2 concentration meaningful? (Maximum 200 words.)"
   ]
  },
  {
   "cell_type": "markdown",
   "id": "db8d808d",
   "metadata": {},
   "source": [
    " "
   ]
  },
  {
   "cell_type": "markdown",
   "id": "6df095cf",
   "metadata": {},
   "source": [
    "\n",
    "\n",
    "### Problem 3: Autocovariance Functions\n",
    "**1.** Consider the MA(1) model,\n",
    "$$X_t = W_t + \\theta W_{t-1},$$\n",
    "where $W_t\\sim W\\sim\\mathcal{N}(0,\\sigma^2)$. Find the autocovariance function of $X_t$.\n",
    "Include all important steps of your computations in your report."
   ]
  },
  {
   "cell_type": "markdown",
   "id": "31d4cf7b",
   "metadata": {},
   "source": [
    " "
   ]
  },
  {
   "cell_type": "markdown",
   "id": "9282bfe0",
   "metadata": {},
   "source": [
    "\n",
    "**2.** Consider the AR(1) model,\n",
    "$$X_t=\\phi X_{t-1}+W_t,$$\n",
    "where $W\\sim W_t\\sim\\mathcal{N}(0,\\sigma^2)$. Suppose $|\\phi|<1$. Find the autocovariance function of ${X_t}$. (You may use, without proving, the fact that ${X_t}$ is stationary if $|\\phi|<1$.)  \n",
    "Include all important steps of your computations in your report."
   ]
  },
  {
   "cell_type": "markdown",
   "id": "b7693ff5",
   "metadata": {},
   "source": [
    " "
   ]
  },
  {
   "cell_type": "markdown",
   "id": "552ac4b5",
   "metadata": {},
   "source": [
    "\n",
    "\n",
    "### Problem 5: Converting to Inflation Rates\n",
    "### Inflation Rate from CPI\n",
    "Repeat the model fitting and evaluation procedure from the previous page for the monthly inflation rate computed from CPI.\n",
    "\n",
    "Your response should include:\n",
    "\n",
    "**1.** \n",
    "- (1 point) Description of how you compute the monthly inflation rate from CPI and a plot of the monthly inflation rate.  \n",
    "- (2 points) Description of how the data has been detrended and a plot of the detrended data. (You may choose to work with log of the CPI for later convenience.)  \n",
    "- (3 points) Statement of and justification for the chosen AR($p$) model. Include plots and reasoning.  \n",
    "- (3 points) Description of the final model; computation and plots of the 1 month-ahead forecasts for the validation data. In your plot, overlay predictions on top of the data."
   ]
  },
  {
   "cell_type": "markdown",
   "id": "b5685f70",
   "metadata": {},
   "source": [
    " "
   ]
  },
  {
   "cell_type": "markdown",
   "id": "e14aeb92",
   "metadata": {},
   "source": [
    "\n",
    "**2.** (3 points) Which AR($p$) model gives the best predictions? Include a plot of the RSME against different lags $p$ for the model."
   ]
  },
  {
   "cell_type": "markdown",
   "id": "c96e71bc",
   "metadata": {},
   "source": [
    " "
   ]
  },
  {
   "cell_type": "markdown",
   "id": "d6036e36",
   "metadata": {},
   "source": [
    "\n",
    "**3.** (3 points) Overlay your estimates of monthly inflation rates and plot them on the same graph to compare. (There should be 4 lines, one for each dataset, plus the predictions) over time (months from September 2013 onward)."
   ]
  },
  {
   "cell_type": "markdown",
   "id": "328436c0",
   "metadata": {},
   "source": [
    " "
   ]
  },
  {
   "cell_type": "markdown",
   "id": "b07e5b6b",
   "metadata": {},
   "source": [
    "\n",
    "\n",
    "### Problem 6: External Regressors and Model Improvements\n",
    "### External Regressors\n",
    "**1.** (4 points) Include as external regressors monthly average PriceStats inflation rate data and monthly BER data. Use cross-correlation plots to find the lag between the following:\n",
    "- CPI inflation rate and PriceStats inflation rate\n",
    "- CPI and BER inflation rate."
   ]
  },
  {
   "cell_type": "markdown",
   "id": "4efa362f",
   "metadata": {},
   "source": [
    " "
   ]
  },
  {
   "cell_type": "markdown",
   "id": "4d1ca786",
   "metadata": {},
   "source": [
    "\n",
    "**2.** (3 points) Fit a new AR model to the CPI inflation rate with these external regressors and the most appropriate lag. Report the coefficients.\n",
    "> Python Tip: You may use use sm.tsa.statespace.SARIMAX."
   ]
  },
  {
   "cell_type": "markdown",
   "id": "7bb42c00",
   "metadata": {},
   "source": [
    " "
   ]
  },
  {
   "cell_type": "markdown",
   "id": "0aad2f63",
   "metadata": {},
   "source": [
    "\n",
    "**3.** (3 points) Report the mean squared prediction error for 1 month ahead forecasts."
   ]
  },
  {
   "cell_type": "markdown",
   "id": "d5b40da9",
   "metadata": {},
   "source": [
    " "
   ]
  },
  {
   "cell_type": "markdown",
   "id": "c2ba9bcc",
   "metadata": {},
   "source": [
    "\n",
    "### Improving your model  \n",
    "(5 points) What other steps can you take to improve your model from part III? What is the smallest prediction error you can obtain? Describe the model that performs best. You might consider including MA terms, adding a seasonal AR term, or adding multiple daily values (or values from different months) of PriceStats and BER data as external regressors.\n"
   ]
  },
  {
   "cell_type": "markdown",
   "id": "df48960f",
   "metadata": {},
   "source": [
    " "
   ]
  }
 ],
 "metadata": {},
 "nbformat": 4,
 "nbformat_minor": 5
}
