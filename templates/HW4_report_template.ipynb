{
 "cells": [
  {
   "cell_type": "markdown",
   "id": "71086275",
   "metadata": {},
   "source": [
    "**MITx 6.419x  Data Analysis: Statistical Modeling and Computation in Applications**  \n",
    "Written report -- Homework 4  \n",
    "Student Name (s_name)  \n",
    "4/10/21  \n",
    "---"
   ]
  },
  {
   "cell_type": "markdown",
   "id": "acb6c2f5",
   "metadata": {},
   "source": [
    "## Module 4: Time Series"
   ]
  },
  {
   "cell_type": "markdown",
   "id": "5434b1a7",
   "metadata": {},
   "source": [
    " "
   ]
  },
  {
   "cell_type": "markdown",
   "id": "0f3b10d0",
   "metadata": {},
   "source": [
    "\n",
    "### Problem 2: The Mauna Loa CO$_2$ Concentration\n",
    "### The final model  \n",
    "1. Plot the periodic signal $P_i$. (Your plot should have 1 data point for each month, so 12 in total.) Clearly state the definition the $P_i$, and make sure your plot is clearly labeled.\n",
    ">Python tip: For interpolation, you may use interp1d from Scikit-learn. See Documentation on interp1d."
   ]
  },
  {
   "cell_type": "markdown",
   "id": "6631aa26",
   "metadata": {},
   "source": [
    " "
   ]
  },
  {
   "cell_type": "markdown",
   "id": "2e771edb",
   "metadata": {},
   "source": [
    "\n",
    "2. Plot the final fit $F_n(t_i)+P_i$. Your plot should clearly show the final model on top of the entire time series, while indicating the split between the training and testing data."
   ]
  },
  {
   "cell_type": "markdown",
   "id": "090f2ce5",
   "metadata": {},
   "source": [
    " "
   ]
  },
  {
   "cell_type": "markdown",
   "id": "ec90b92a",
   "metadata": {},
   "source": [
    "\n",
    "3. Report the root mean squared prediction error RMSE and the mean absolute percentage error MAPE with respect to the test set for this final model. Is this an improvement over the previous model $F_n(t_i)$ without the periodic signal? (Maximum 200 words.)"
   ]
  },
  {
   "cell_type": "markdown",
   "id": "8f1b39c6",
   "metadata": {},
   "source": [
    " "
   ]
  },
  {
   "cell_type": "markdown",
   "id": "a3febf0d",
   "metadata": {},
   "source": [
    "\n",
    "4. What is the ratio of the range of values of $F$ to the amplitude of $P_i$ and the ratio of the amplitude of $P$ to the range of the residual $R_i$ (from removing both the trend and the periodic signal)? Is this decomposition of the variation of the CO2 concentration meaningful? (Maximum 200 words.)"
   ]
  },
  {
   "cell_type": "markdown",
   "id": "1cd43929",
   "metadata": {},
   "source": [
    " "
   ]
  },
  {
   "cell_type": "markdown",
   "id": "281c1e05",
   "metadata": {},
   "source": [
    "\n",
    "\n",
    "### Problem 3: Autocovariance Functions\n",
    "1. Consider the MA(1) model,\n",
    "$$X_t = W_t + \\theta W_{t-1},$$\n",
    "where $W_t\\sim W\\sim\\mathcal{N}(0,\\sigma^2)$. Find the autocovariance function of $X_t$.\n",
    "Include all important steps of your computations in your report."
   ]
  },
  {
   "cell_type": "markdown",
   "id": "0d28a47f",
   "metadata": {},
   "source": [
    " "
   ]
  },
  {
   "cell_type": "markdown",
   "id": "e6a821e5",
   "metadata": {},
   "source": [
    "\n",
    "2. Consider the AR(1) model,\n",
    "$$X_t=\\phi X_{t-1}+W_t,$$\n",
    "where $W\\sim W_t\\sim\\mathcal{N}(0,\\sigma^2)$. Suppose $|\\phi|<1$. Find the autocovariance function of ${X_t}$. (You may use, without proving, the fact that ${X_t}$ is stationary if $|\\phi|<1$.)  \n",
    "Include all important steps of your computations in your report.\n",
    "\n",
    "### Problem 5: Converting to Inflation Rates\n",
    "### Inflation Rate from CPI\n",
    "Repeat the model fitting and evaluation procedure from the previous page for the monthly inflation rate computed from CPI.\n",
    "\n",
    "Your response should include:\n",
    "\n",
    "1. (1 point) Description of how you compute the monthly inflation rate from CPI and a plot of the monthly inflation rate.  \n",
    "(2 points) Description of how the data has been detrended and a plot of the detrended data. (You may choose to work with log of the CPI for later convenience.)  \n",
    "(3 points) Statement of and justification for the chosen AR(??) model. Include plots and reasoning.\n",
    "(3 points) Description of the final model; computation and plots of the 1 month-ahead forecasts for the validation data. In your plot, overlay predictions on top of the data."
   ]
  },
  {
   "cell_type": "markdown",
   "id": "6aac055b",
   "metadata": {},
   "source": [
    " "
   ]
  },
  {
   "cell_type": "markdown",
   "id": "3049bcfd",
   "metadata": {},
   "source": [
    "\n",
    "2. (3 points) Which AR$(p)$ model gives the best predictions? Include a plot of the RSME against different lags $p$ for the model."
   ]
  },
  {
   "cell_type": "markdown",
   "id": "969f553f",
   "metadata": {},
   "source": [
    " "
   ]
  },
  {
   "cell_type": "markdown",
   "id": "0788f92c",
   "metadata": {},
   "source": [
    "\n",
    "3. (3 points) Overlay your estimates of monthly inflation rates and plot them on the same graph to compare. (There should be 4 lines, one for each dataset, plus the predictions) over time (months from September 2013 onward)."
   ]
  },
  {
   "cell_type": "markdown",
   "id": "be8a23fc",
   "metadata": {},
   "source": [
    " "
   ]
  },
  {
   "cell_type": "markdown",
   "id": "9bdad844",
   "metadata": {},
   "source": [
    "\n",
    "\n",
    "### Problem 6: External Regressors and Model Improvements\n",
    "### External Regressors\n",
    "1. (4 points) Include as external regressors monthly average PriceStats inflation rate data and monthly BER data. Use cross-correlation plots to find the lag between the following:\n",
    "- CPI inflation rate and PriceStats inflation rate\n",
    "- CPI and BER inflation rate."
   ]
  },
  {
   "cell_type": "markdown",
   "id": "b398cf7a",
   "metadata": {},
   "source": [
    " "
   ]
  },
  {
   "cell_type": "markdown",
   "id": "41624bc2",
   "metadata": {},
   "source": [
    "\n",
    "2. (3 points) Fit a new AR model to the CPI inflation rate with these external regressors and the most appropriate lag. Report the coefficients.\n",
    "> Python Tip: You may use use sm.tsa.statespace.SARIMAX."
   ]
  },
  {
   "cell_type": "markdown",
   "id": "982d11b5",
   "metadata": {},
   "source": [
    " "
   ]
  },
  {
   "cell_type": "markdown",
   "id": "87faac8d",
   "metadata": {},
   "source": [
    "\n",
    "3. (3 points) Report the mean squared prediction error for 1 month ahead forecasts."
   ]
  },
  {
   "cell_type": "markdown",
   "id": "052ec552",
   "metadata": {},
   "source": [
    " "
   ]
  },
  {
   "cell_type": "markdown",
   "id": "aa277fbb",
   "metadata": {},
   "source": [
    "\n",
    "### Improving your model  \n",
    "(5 points) What other steps can you take to improve your model from part III? What is the smallest prediction error you can obtain? Describe the model that performs best. You might consider including MA terms, adding a seasonal AR term, or adding multiple daily values (or values from different months) of PriceStats and BER data as external regressors.\n"
   ]
  },
  {
   "cell_type": "markdown",
   "id": "61f4a009",
   "metadata": {},
   "source": [
    " "
   ]
  }
 ],
 "metadata": {},
 "nbformat": 4,
 "nbformat_minor": 5
}
