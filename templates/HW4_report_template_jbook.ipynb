{
 "cells": [
  {
   "cell_type": "markdown",
   "id": "9690e526",
   "metadata": {},
   "source": [
    "````{panels}\n",
    ":column: col-10\n",
    "***6.419x  Data Analysis: Statistical Modeling and Computation in Applications***  \n",
    "^^^\n",
    "```{image} mitx_zoom_background.jpg\n",
    ":alt: MITx\n",
    ":width: 300px\n",
    ":align: left\n",
    "```\n",
    "\n",
    "**Written report -- Homework {{week}}**  \n",
    "{{author}} ({{author_sname}})  \n",
    "{{report_date}}  \n",
    "+++\n",
    "````"
   ]
  },
  {
   "cell_type": "markdown",
   "id": "e70dff7f",
   "metadata": {
    "tags": []
   },
   "source": [
    "# Module 4: Time Series"
   ]
  },
  {
   "cell_type": "markdown",
   "id": "609cdfc5",
   "metadata": {
    "tags": []
   },
   "source": [
    "## Problem 2: The Mauna Loa CO<sub>2</sub> Concentration\n",
    "### The final model"
   ]
  },
  {
   "cell_type": "markdown",
   "id": "5d80893b",
   "metadata": {
    "tags": [
     "question:2.1",
     "points:3"
    ]
   },
   "source": [
    "```{admonition} 2.1 (3 points)\n",
    ":class: caution\n",
    "*Plot the periodic signal $P_i$. (Your plot should have 1 data point for each month, so 12 in total.) Clearly state the definition the $P_i$, and make sure your plot is clearly labeled.\n",
    ">Python tip: For interpolation, you may use interp1d from Scikit-learn. See Documentation on interp1d.*\n",
    "```"
   ]
  },
  {
   "cell_type": "markdown",
   "id": "47a7a405",
   "metadata": {},
   "source": [
    " "
   ]
  },
  {
   "cell_type": "markdown",
   "id": "3b024d37",
   "metadata": {
    "tags": [
     "question:2.2",
     "points:2"
    ]
   },
   "source": [
    "```{admonition} 2.2 (2 points)\n",
    ":class: caution\n",
    "*Plot the final fit $F_n(t_i)+P_i$. Your plot should clearly show the final model on top of the entire time series, while indicating the split between the training and testing data.*\n",
    "```"
   ]
  },
  {
   "cell_type": "markdown",
   "id": "70e4114d",
   "metadata": {},
   "source": [
    " "
   ]
  },
  {
   "cell_type": "markdown",
   "id": "b17cd4ac",
   "metadata": {
    "tags": [
     "question:2.3",
     "points:4"
    ]
   },
   "source": [
    "```{admonition} 2.3 (4 points, 200 word limit)\n",
    ":class: caution\n",
    "*Report the root mean squared prediction error RMSE and the mean absolute percentage error MAPE with respect to the test set for this final model. Is this an improvement over the previous model $F_n(t_i)$ without the periodic signal?*\n",
    "```"
   ]
  },
  {
   "cell_type": "markdown",
   "id": "8c5896c8",
   "metadata": {
    "tags": [
     "word-limit:200"
    ]
   },
   "source": [
    " "
   ]
  },
  {
   "cell_type": "markdown",
   "id": "23c2bcb5",
   "metadata": {
    "tags": [
     "question:2.4",
     "points:3"
    ]
   },
   "source": [
    "```{admonition} 2.4 (3 points, 200 word limit)\n",
    ":class: caution\n",
    "*What is the ratio of the range of values of $F$ to the amplitude of $P_i$ and the ratio of the amplitude of $P$ to the range of the residual $R_i$ (from removing both the trend and the periodic signal)? Is this decomposition of the variation of the CO2 concentration meaningful?*\n",
    "```"
   ]
  },
  {
   "cell_type": "markdown",
   "id": "9a05ad67",
   "metadata": {
    "tags": [
     "word-limit:200"
    ]
   },
   "source": [
    " "
   ]
  },
  {
   "cell_type": "markdown",
   "id": "14fe2199",
   "metadata": {
    "tags": []
   },
   "source": [
    "## Problem 3: Autocovariance Functions"
   ]
  },
  {
   "cell_type": "markdown",
   "id": "ae085f09",
   "metadata": {
    "tags": [
     "question:3.1",
     "points:4"
    ]
   },
   "source": [
    "```{admonition} 3.1 (4 points)\n",
    ":class: caution\n",
    "*Consider the MA(1) model,\n",
    "\n",
    "$$X_t = W_t + \\theta W_{t-1},$$\n",
    "\n",
    "where $W_t\\sim W\\sim\\mathcal{N}(0,\\sigma^2)$. Find the autocovariance function of $X_t$.\n",
    "Include all important steps of your computations in your report.*\n",
    "```"
   ]
  },
  {
   "cell_type": "markdown",
   "id": "43536179",
   "metadata": {},
   "source": [
    " "
   ]
  },
  {
   "cell_type": "markdown",
   "id": "bfb6a258",
   "metadata": {
    "tags": [
     "question:3.2",
     "points:4"
    ]
   },
   "source": [
    "```{admonition} 3.2 (4 points)\n",
    ":class: caution\n",
    "*Consider the AR(1) model,\n",
    "\n",
    "$$X_t=\\phi X_{t-1}+W_t,$$\n",
    "\n",
    "where $W\\sim W_t\\sim\\mathcal{N}(0,\\sigma^2)$. Suppose $|\\phi|<1$. Find the autocovariance function of ${X_t}$. (You may use, without proving, the fact that ${X_t}$ is stationary if $|\\phi|<1$.)  \n",
    "Include all important steps of your computations in your report.*\n",
    "```"
   ]
  },
  {
   "cell_type": "markdown",
   "id": "e6a69740",
   "metadata": {},
   "source": [
    " "
   ]
  },
  {
   "cell_type": "markdown",
   "id": "d20efb4f",
   "metadata": {
    "tags": []
   },
   "source": [
    "## Problem 5: Converting to Inflation Rates\n",
    "### Inflation Rate from CPI"
   ]
  },
  {
   "cell_type": "markdown",
   "id": "8221766a",
   "metadata": {
    "tags": [
     "question:5.1",
     "points:9"
    ]
   },
   "source": [
    "```{admonition} 5.1 (9 points)\n",
    ":class: caution\n",
    "*Repeat the model fitting and evaluation procedure from the previous page for the monthly inflation rate computed from CPI.  Your response should include:\n",
    "\n",
    "- Description of how you compute the monthly inflation rate from CPI and a plot of the monthly inflation rate.  \n",
    "- Description of how the data has been detrended and a plot of the detrended data. (You may choose to work with log of the CPI for later convenience.)  \n",
    "- Statement of and justification for the chosen AR($p$) model. Include plots and reasoning.  \n",
    "- Description of the final model; computation and plots of the 1 month-ahead forecasts for the validation data. In your plot, overlay predictions on top of the data.*\n",
    "```"
   ]
  },
  {
   "cell_type": "markdown",
   "id": "feec18fa",
   "metadata": {},
   "source": [
    " "
   ]
  },
  {
   "cell_type": "markdown",
   "id": "b1a835e1",
   "metadata": {
    "tags": [
     "question:5.2",
     "points:3"
    ]
   },
   "source": [
    "```{admonition} 5.2 (3 points)\n",
    ":class: caution\n",
    "*Which AR($p$) model gives the best predictions? Include a plot of the RSME against different lags $p$ for the model.*\n",
    "```"
   ]
  },
  {
   "cell_type": "markdown",
   "id": "d0c89020",
   "metadata": {},
   "source": [
    " "
   ]
  },
  {
   "cell_type": "markdown",
   "id": "2173c868",
   "metadata": {
    "tags": [
     "question:5.3",
     "points:3"
    ]
   },
   "source": [
    "```{admonition} 5.3 (3 points)\n",
    ":class: caution\n",
    "*Overlay your estimates of monthly inflation rates and plot them on the same graph to compare. (There should be 4 lines, one for each dataset, plus the predictions) over time (months from September 2013 onward).*\n",
    "```"
   ]
  },
  {
   "cell_type": "markdown",
   "id": "9ecc5c20",
   "metadata": {},
   "source": [
    " "
   ]
  },
  {
   "cell_type": "markdown",
   "id": "dd0ffb8b",
   "metadata": {
    "tags": []
   },
   "source": [
    "## Problem 6: External Regressors and Model Improvements\n",
    "### External Regressors"
   ]
  },
  {
   "cell_type": "markdown",
   "id": "f93802d1",
   "metadata": {
    "tags": [
     "question:6.1",
     "points:4"
    ]
   },
   "source": [
    "```{admonition} 6.1 (4 points)\n",
    ":class: caution\n",
    "*Include as external regressors monthly average PriceStats inflation rate data and monthly BER data. Use cross-correlation plots to find the lag between the following:\n",
    "- CPI inflation rate and PriceStats inflation rate\n",
    "- CPI and BER inflation rate.*\n",
    "```"
   ]
  },
  {
   "cell_type": "markdown",
   "id": "5ab955b2",
   "metadata": {},
   "source": [
    " "
   ]
  },
  {
   "cell_type": "markdown",
   "id": "6e5d5b18",
   "metadata": {
    "tags": [
     "question:6.2",
     "points:3"
    ]
   },
   "source": [
    "```{admonition} 6.2 (3 points)\n",
    ":class: caution\n",
    "*Fit a new AR model to the CPI inflation rate with these external regressors and the most appropriate lag. Report the coefficients.\n",
    "> Python Tip: You may use use sm.tsa.statespace.SARIMAX.*\n",
    "```"
   ]
  },
  {
   "cell_type": "markdown",
   "id": "0da5575f",
   "metadata": {},
   "source": [
    " "
   ]
  },
  {
   "cell_type": "markdown",
   "id": "e8177433",
   "metadata": {
    "tags": [
     "question:6.3",
     "points:3"
    ]
   },
   "source": [
    "```{admonition} 6.3 (3 points)\n",
    ":class: caution\n",
    "*Report the mean squared prediction error for 1 month ahead forecasts.*\n",
    "```"
   ]
  },
  {
   "cell_type": "markdown",
   "id": "1d08636f",
   "metadata": {},
   "source": [
    " "
   ]
  },
  {
   "cell_type": "markdown",
   "id": "82344687",
   "metadata": {
    "tags": []
   },
   "source": [
    "## Improving your model"
   ]
  },
  {
   "cell_type": "markdown",
   "id": "935f0151",
   "metadata": {
    "tags": [
     "points:5"
    ]
   },
   "source": [
    "What other steps can you take to improve your model from part III? What is the smallest prediction error you can obtain? Describe the model that performs best. You might consider including MA terms, adding a seasonal AR term, or adding multiple daily values (or values from different months) of PriceStats and BER data as external regressors.\n"
   ]
  }
 ],
 "metadata": {
  "celltoolbar": [
   "Tags"
  ]
 },
 "nbformat": 4,
 "nbformat_minor": 5
}
